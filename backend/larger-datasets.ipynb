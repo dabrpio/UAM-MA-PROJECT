{
 "cells": [
  {
   "cell_type": "code",
   "execution_count": 1,
   "metadata": {},
   "outputs": [],
   "source": [
    "# Filenames\n",
    "file_small_1 = 'data/data-en.txt'\n",
    "file_small_2 = 'data/data-pl.txt'\n",
    "file_large_1 = 'data/data-en-large.txt'\n",
    "file_large_2 = 'data/data-pl-large.txt'"
   ]
  },
  {
   "cell_type": "code",
   "execution_count": 2,
   "metadata": {},
   "outputs": [],
   "source": [
    "# Simple function\n",
    "def create_dict_simple(file1, file2):\n",
    "    with open(file1, 'r', encoding='utf-8') as f1, open(file2, 'r', encoding='utf-8') as f2:\n",
    "        return {key: value for key, value in zip(f1, f2)}"
   ]
  },
  {
   "cell_type": "code",
   "execution_count": 3,
   "metadata": {},
   "outputs": [],
   "source": [
    "# Check if translation_memory works as expected\n",
    "def check_dict(d: dict):\n",
    "    first_key = next(iter(d))\n",
    "    first_value = d[first_key]\n",
    "    print(first_key, first_value)"
   ]
  },
  {
   "cell_type": "code",
   "execution_count": 4,
   "metadata": {},
   "outputs": [
    {
     "name": "stdout",
     "output_type": "stream",
     "text": [
      "Madeleine, can we buy some milk from you?\n",
      " Madeleine, możemy kupić mleko od ciebie?\n",
      "\n"
     ]
    }
   ],
   "source": [
    "# Use simple function to create dict on 50k line files\n",
    "tm1 = create_dict_simple(file_small_1, file_small_2)\n",
    "check_dict(tm1)"
   ]
  },
  {
   "cell_type": "code",
   "execution_count": 3,
   "metadata": {},
   "outputs": [
    {
     "ename": "",
     "evalue": "",
     "output_type": "error",
     "traceback": [
      "\u001b[1;31mThe Kernel crashed while executing code in the current cell or a previous cell. \n",
      "\u001b[1;31mPlease review the code in the cell(s) to identify a possible cause of the failure. \n",
      "\u001b[1;31mClick <a href='https://aka.ms/vscodeJupyterKernelCrash'>here</a> for more info. \n",
      "\u001b[1;31mView Jupyter <a href='command:jupyter.viewOutput'>log</a> for further details."
     ]
    }
   ],
   "source": [
    "# Use simple function to create dict on ~42M line files\n",
    "tm2 = create_dict_simple(file_large_1, file_large_2)\n",
    "check_dict(tm2)"
   ]
  },
  {
   "cell_type": "code",
   "execution_count": 5,
   "metadata": {},
   "outputs": [],
   "source": [
    "# Function which splits files into smaller chunks and merges the dictionaries afterward\n",
    "from itertools import islice, zip_longest\n",
    "\n",
    "def process_chunk(chunk1, chunk2, translation_memory):\n",
    "    for line1, line2 in zip_longest(chunk1, chunk2):\n",
    "        translation_memory[line1] = line2\n",
    "\n",
    "def create_dict_with_smaller_chunks(filename1, filename2):\n",
    "    translation_memory = {}\n",
    "    chunk_size = 100000\n",
    "    with open(filename1, 'r', encoding='utf-8') as f1, open(filename2, 'r', encoding='utf-8') as f2:\n",
    "        while True:\n",
    "            chunk1 = list(islice(f1, chunk_size))\n",
    "            chunk2 = list(islice(f2, chunk_size))\n",
    "            if not chunk1 or not chunk2:\n",
    "                break\n",
    "            process_chunk(chunk1, chunk2, translation_memory)\n",
    "    return translation_memory\n"
   ]
  },
  {
   "cell_type": "code",
   "execution_count": 6,
   "metadata": {},
   "outputs": [
    {
     "name": "stdout",
     "output_type": "stream",
     "text": [
      "Madeleine, can we buy some milk from you?\n",
      " Madeleine, możemy kupić mleko od ciebie?\n",
      "\n"
     ]
    }
   ],
   "source": [
    "# Use chunking function to create dict on ~50k line files\n",
    "tm3 = create_dict_with_smaller_chunks(file_small_1, file_small_2)\n",
    "check_dict(tm3)"
   ]
  },
  {
   "cell_type": "code",
   "execution_count": 7,
   "metadata": {},
   "outputs": [
    {
     "ename": "",
     "evalue": "",
     "output_type": "error",
     "traceback": [
      "\u001b[1;31mThe Kernel crashed while executing code in the current cell or a previous cell. \n",
      "\u001b[1;31mPlease review the code in the cell(s) to identify a possible cause of the failure. \n",
      "\u001b[1;31mClick <a href='https://aka.ms/vscodeJupyterKernelCrash'>here</a> for more info. \n",
      "\u001b[1;31mView Jupyter <a href='command:jupyter.viewOutput'>log</a> for further details."
     ]
    }
   ],
   "source": [
    "# Use chunking function to create dict on ~42M line files\n",
    "tm4 = create_dict_with_smaller_chunks(file_large_1, file_large_2)\n",
    "check_dict(tm4)"
   ]
  }
 ],
 "metadata": {
  "kernelspec": {
   "display_name": ".venv",
   "language": "python",
   "name": "python3"
  },
  "language_info": {
   "codemirror_mode": {
    "name": "ipython",
    "version": 3
   },
   "file_extension": ".py",
   "mimetype": "text/x-python",
   "name": "python",
   "nbconvert_exporter": "python",
   "pygments_lexer": "ipython3",
   "version": "3.10.12"
  }
 },
 "nbformat": 4,
 "nbformat_minor": 2
}
