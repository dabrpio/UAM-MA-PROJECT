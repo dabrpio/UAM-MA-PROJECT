{
 "cells": [
  {
   "cell_type": "code",
   "execution_count": 16,
   "metadata": {},
   "outputs": [],
   "source": [
    "# Filenames\n",
    "file_small_1 = 'data/data-en.txt'\n",
    "file_small_2 = 'data/data-pl.txt'\n",
    "file_large_1 = 'data/data-en-large.txt'\n",
    "file_large_2 = 'data/data-pl-large.txt'"
   ]
  },
  {
   "cell_type": "code",
   "execution_count": 17,
   "metadata": {},
   "outputs": [
    {
     "name": "stdout",
     "output_type": "stream",
     "text": [
      "-e 'I must' -e 'must be' -e 'be leaving' -e 'leaving now'\n"
     ]
    },
    {
     "data": {
      "text/plain": [
       "0"
      ]
     },
     "execution_count": 17,
     "metadata": {},
     "output_type": "execute_result"
    }
   ],
   "source": [
    "# Create a smaller file with sentences partially including source text.\n",
    "import os, re\n",
    "from nltk import bigrams\n",
    "\n",
    "temp_file = 'data/temp.txt'\n",
    "example_text = \"I must be leaving now.\"\n",
    "\n",
    "regex = re.compile('[^a-zA-Z\\s]')\n",
    "example_text_words = regex.sub('', example_text).split()\n",
    "if len(example_text_words) > 1:\n",
    "    words = list(bigrams(example_text_words))\n",
    "    patterns = ' '.join(f\"-e '{word[0]} {word[1]}'\" for word in words)\n",
    "else:\n",
    "    patterns = f\"-e '{example_text}'\"\n",
    "print(patterns)\n",
    "\n",
    "os.system(\"grep -nwi %s %s | cat >> %s\" %(patterns, file_large_1, temp_file))\n"
   ]
  },
  {
   "cell_type": "code",
   "execution_count": 18,
   "metadata": {},
   "outputs": [
    {
     "name": "stdout",
     "output_type": "stream",
     "text": [
      "Number of lines in temp_file:\n",
      "84717 data/temp.txt\n",
      "\n",
      "\n",
      "First few lines from temp_file:\n",
      "400:You must be hungry, dear.\n",
      "1064:You must be crazy!\n",
      "1134:-He must be sensitive.\n",
      "1772:It must be 'that day' for Eunchae.\n",
      "2007:You must be the new guy that moved in downstairs.\n",
      "2532:anyway that girl must be crazy!\n",
      "2620:Come on...teacher must be waiting.\n",
      "3062:You must be stegnesh\n",
      "3074:I must be immune.\n",
      "3626:that'sthefirsttimewe've Had a santa though, I must say.\n"
     ]
    },
    {
     "data": {
      "text/plain": [
       "0"
      ]
     },
     "execution_count": 18,
     "metadata": {},
     "output_type": "execute_result"
    }
   ],
   "source": [
    "print('Number of lines in temp_file:')\n",
    "os.system(\"wc -l %s\" % temp_file)\n",
    "print('\\n')\n",
    "print('First few lines from temp_file:')\n",
    "os.system(\"head %s\" % temp_file)"
   ]
  },
  {
   "cell_type": "code",
   "execution_count": 19,
   "metadata": {},
   "outputs": [
    {
     "name": "stdout",
     "output_type": "stream",
     "text": [
      "            Original Name                              Lookup 1  Lookup 1 Confidence  Lookup 1 Index                                             Lookup 2  Lookup 2 Confidence  Lookup 2 Index                                    Lookup 3  Lookup 3 Confidence  Lookup 3 Index                             Lookup 4  Lookup 4 Confidence  Lookup 4 Index                                                                       Lookup 5  Lookup 5 Confidence  Lookup 5 Index\n",
      "0  I must be leaving now.  3498566:I must be leaving you now.\\n                 0.64           13752  21481679:I'm leaving now. You're leaving with me.\\n                 0.63           51046  2071944:I must be leaving now, my dears.\\n                 0.62            8805  6437504:- Now. We're leaving now.\\n                 0.59           21943  4268527:Mr. Hastings will be leaving now. Mr. Hastings will be leaving now.\\n                 0.58           15952\n"
     ]
    }
   ],
   "source": [
    "# Utilize tfidf_matcher library to perform fuzzy matching using cosine similarity\n",
    "import tfidf_matcher as tm\n",
    "\n",
    "with open(temp_file, 'r', encoding='utf-8') as f1:\n",
    "    lines = f1.readlines()\n",
    "    unique_lines = set(lines)\n",
    "    result = tm.matcher(original=[example_text], lookup=lines, k_matches=5, ngram_length=2)\n",
    "    print(result.to_string())"
   ]
  },
  {
   "cell_type": "code",
   "execution_count": 20,
   "metadata": {},
   "outputs": [],
   "source": [
    "os.remove(temp_file)"
   ]
  }
 ],
 "metadata": {
  "kernelspec": {
   "display_name": ".venv",
   "language": "python",
   "name": "python3"
  },
  "language_info": {
   "codemirror_mode": {
    "name": "ipython",
    "version": 3
   },
   "file_extension": ".py",
   "mimetype": "text/x-python",
   "name": "python",
   "nbconvert_exporter": "python",
   "pygments_lexer": "ipython3",
   "version": "3.10.12"
  }
 },
 "nbformat": 4,
 "nbformat_minor": 2
}
