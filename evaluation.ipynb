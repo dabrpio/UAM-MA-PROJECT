{
  "nbformat": 4,
  "nbformat_minor": 0,
  "metadata": {
    "colab": {
      "provenance": [],
      "gpuType": "T4",
      "authorship_tag": "ABX9TyM0SFX9XtIz6sPzxwNaFU5p",
      "include_colab_link": true
    },
    "kernelspec": {
      "name": "python3",
      "display_name": "Python 3"
    },
    "language_info": {
      "name": "python"
    },
    "accelerator": "GPU",
    "widgets": {
      "application/vnd.jupyter.widget-state+json": {
        "fe96c79364644012ab4d72b5bad22047": {
          "model_module": "@jupyter-widgets/controls",
          "model_name": "HBoxModel",
          "model_module_version": "1.5.0",
          "state": {
            "_dom_classes": [],
            "_model_module": "@jupyter-widgets/controls",
            "_model_module_version": "1.5.0",
            "_model_name": "HBoxModel",
            "_view_count": null,
            "_view_module": "@jupyter-widgets/controls",
            "_view_module_version": "1.5.0",
            "_view_name": "HBoxView",
            "box_style": "",
            "children": [
              "IPY_MODEL_0104337a2c7e486fa9c1f0f9590b55d2",
              "IPY_MODEL_dbf0f7acb0864cb6b10af08921af18f8",
              "IPY_MODEL_beba0b7fc37f49c3821d7d27b8421aaa"
            ],
            "layout": "IPY_MODEL_422be4fe60e0489ca1ed8bd50942b952"
          }
        },
        "0104337a2c7e486fa9c1f0f9590b55d2": {
          "model_module": "@jupyter-widgets/controls",
          "model_name": "HTMLModel",
          "model_module_version": "1.5.0",
          "state": {
            "_dom_classes": [],
            "_model_module": "@jupyter-widgets/controls",
            "_model_module_version": "1.5.0",
            "_model_name": "HTMLModel",
            "_view_count": null,
            "_view_module": "@jupyter-widgets/controls",
            "_view_module_version": "1.5.0",
            "_view_name": "HTMLView",
            "description": "",
            "description_tooltip": null,
            "layout": "IPY_MODEL_5656af3a978943029e70f1c39c297283",
            "placeholder": "​",
            "style": "IPY_MODEL_0b646b2e1da54081b5e3e6fdb89d3e85",
            "value": "Downloading builder script: 100%"
          }
        },
        "dbf0f7acb0864cb6b10af08921af18f8": {
          "model_module": "@jupyter-widgets/controls",
          "model_name": "FloatProgressModel",
          "model_module_version": "1.5.0",
          "state": {
            "_dom_classes": [],
            "_model_module": "@jupyter-widgets/controls",
            "_model_module_version": "1.5.0",
            "_model_name": "FloatProgressModel",
            "_view_count": null,
            "_view_module": "@jupyter-widgets/controls",
            "_view_module_version": "1.5.0",
            "_view_name": "ProgressView",
            "bar_style": "success",
            "description": "",
            "description_tooltip": null,
            "layout": "IPY_MODEL_ef3d11547bff4d50bbc94c37004008c3",
            "max": 7021,
            "min": 0,
            "orientation": "horizontal",
            "style": "IPY_MODEL_f3acdbcbf64d4becadc2108e21ed40ee",
            "value": 7021
          }
        },
        "beba0b7fc37f49c3821d7d27b8421aaa": {
          "model_module": "@jupyter-widgets/controls",
          "model_name": "HTMLModel",
          "model_module_version": "1.5.0",
          "state": {
            "_dom_classes": [],
            "_model_module": "@jupyter-widgets/controls",
            "_model_module_version": "1.5.0",
            "_model_name": "HTMLModel",
            "_view_count": null,
            "_view_module": "@jupyter-widgets/controls",
            "_view_module_version": "1.5.0",
            "_view_name": "HTMLView",
            "description": "",
            "description_tooltip": null,
            "layout": "IPY_MODEL_0a401543de6d422082c6071f85fd06ce",
            "placeholder": "​",
            "style": "IPY_MODEL_bf6388fba2b74b098a9e3915b2417f54",
            "value": " 7.02k/7.02k [00:00&lt;00:00, 282kB/s]"
          }
        },
        "422be4fe60e0489ca1ed8bd50942b952": {
          "model_module": "@jupyter-widgets/base",
          "model_name": "LayoutModel",
          "model_module_version": "1.2.0",
          "state": {
            "_model_module": "@jupyter-widgets/base",
            "_model_module_version": "1.2.0",
            "_model_name": "LayoutModel",
            "_view_count": null,
            "_view_module": "@jupyter-widgets/base",
            "_view_module_version": "1.2.0",
            "_view_name": "LayoutView",
            "align_content": null,
            "align_items": null,
            "align_self": null,
            "border": null,
            "bottom": null,
            "display": null,
            "flex": null,
            "flex_flow": null,
            "grid_area": null,
            "grid_auto_columns": null,
            "grid_auto_flow": null,
            "grid_auto_rows": null,
            "grid_column": null,
            "grid_gap": null,
            "grid_row": null,
            "grid_template_areas": null,
            "grid_template_columns": null,
            "grid_template_rows": null,
            "height": null,
            "justify_content": null,
            "justify_items": null,
            "left": null,
            "margin": null,
            "max_height": null,
            "max_width": null,
            "min_height": null,
            "min_width": null,
            "object_fit": null,
            "object_position": null,
            "order": null,
            "overflow": null,
            "overflow_x": null,
            "overflow_y": null,
            "padding": null,
            "right": null,
            "top": null,
            "visibility": null,
            "width": null
          }
        },
        "5656af3a978943029e70f1c39c297283": {
          "model_module": "@jupyter-widgets/base",
          "model_name": "LayoutModel",
          "model_module_version": "1.2.0",
          "state": {
            "_model_module": "@jupyter-widgets/base",
            "_model_module_version": "1.2.0",
            "_model_name": "LayoutModel",
            "_view_count": null,
            "_view_module": "@jupyter-widgets/base",
            "_view_module_version": "1.2.0",
            "_view_name": "LayoutView",
            "align_content": null,
            "align_items": null,
            "align_self": null,
            "border": null,
            "bottom": null,
            "display": null,
            "flex": null,
            "flex_flow": null,
            "grid_area": null,
            "grid_auto_columns": null,
            "grid_auto_flow": null,
            "grid_auto_rows": null,
            "grid_column": null,
            "grid_gap": null,
            "grid_row": null,
            "grid_template_areas": null,
            "grid_template_columns": null,
            "grid_template_rows": null,
            "height": null,
            "justify_content": null,
            "justify_items": null,
            "left": null,
            "margin": null,
            "max_height": null,
            "max_width": null,
            "min_height": null,
            "min_width": null,
            "object_fit": null,
            "object_position": null,
            "order": null,
            "overflow": null,
            "overflow_x": null,
            "overflow_y": null,
            "padding": null,
            "right": null,
            "top": null,
            "visibility": null,
            "width": null
          }
        },
        "0b646b2e1da54081b5e3e6fdb89d3e85": {
          "model_module": "@jupyter-widgets/controls",
          "model_name": "DescriptionStyleModel",
          "model_module_version": "1.5.0",
          "state": {
            "_model_module": "@jupyter-widgets/controls",
            "_model_module_version": "1.5.0",
            "_model_name": "DescriptionStyleModel",
            "_view_count": null,
            "_view_module": "@jupyter-widgets/base",
            "_view_module_version": "1.2.0",
            "_view_name": "StyleView",
            "description_width": ""
          }
        },
        "ef3d11547bff4d50bbc94c37004008c3": {
          "model_module": "@jupyter-widgets/base",
          "model_name": "LayoutModel",
          "model_module_version": "1.2.0",
          "state": {
            "_model_module": "@jupyter-widgets/base",
            "_model_module_version": "1.2.0",
            "_model_name": "LayoutModel",
            "_view_count": null,
            "_view_module": "@jupyter-widgets/base",
            "_view_module_version": "1.2.0",
            "_view_name": "LayoutView",
            "align_content": null,
            "align_items": null,
            "align_self": null,
            "border": null,
            "bottom": null,
            "display": null,
            "flex": null,
            "flex_flow": null,
            "grid_area": null,
            "grid_auto_columns": null,
            "grid_auto_flow": null,
            "grid_auto_rows": null,
            "grid_column": null,
            "grid_gap": null,
            "grid_row": null,
            "grid_template_areas": null,
            "grid_template_columns": null,
            "grid_template_rows": null,
            "height": null,
            "justify_content": null,
            "justify_items": null,
            "left": null,
            "margin": null,
            "max_height": null,
            "max_width": null,
            "min_height": null,
            "min_width": null,
            "object_fit": null,
            "object_position": null,
            "order": null,
            "overflow": null,
            "overflow_x": null,
            "overflow_y": null,
            "padding": null,
            "right": null,
            "top": null,
            "visibility": null,
            "width": null
          }
        },
        "f3acdbcbf64d4becadc2108e21ed40ee": {
          "model_module": "@jupyter-widgets/controls",
          "model_name": "ProgressStyleModel",
          "model_module_version": "1.5.0",
          "state": {
            "_model_module": "@jupyter-widgets/controls",
            "_model_module_version": "1.5.0",
            "_model_name": "ProgressStyleModel",
            "_view_count": null,
            "_view_module": "@jupyter-widgets/base",
            "_view_module_version": "1.2.0",
            "_view_name": "StyleView",
            "bar_color": null,
            "description_width": ""
          }
        },
        "0a401543de6d422082c6071f85fd06ce": {
          "model_module": "@jupyter-widgets/base",
          "model_name": "LayoutModel",
          "model_module_version": "1.2.0",
          "state": {
            "_model_module": "@jupyter-widgets/base",
            "_model_module_version": "1.2.0",
            "_model_name": "LayoutModel",
            "_view_count": null,
            "_view_module": "@jupyter-widgets/base",
            "_view_module_version": "1.2.0",
            "_view_name": "LayoutView",
            "align_content": null,
            "align_items": null,
            "align_self": null,
            "border": null,
            "bottom": null,
            "display": null,
            "flex": null,
            "flex_flow": null,
            "grid_area": null,
            "grid_auto_columns": null,
            "grid_auto_flow": null,
            "grid_auto_rows": null,
            "grid_column": null,
            "grid_gap": null,
            "grid_row": null,
            "grid_template_areas": null,
            "grid_template_columns": null,
            "grid_template_rows": null,
            "height": null,
            "justify_content": null,
            "justify_items": null,
            "left": null,
            "margin": null,
            "max_height": null,
            "max_width": null,
            "min_height": null,
            "min_width": null,
            "object_fit": null,
            "object_position": null,
            "order": null,
            "overflow": null,
            "overflow_x": null,
            "overflow_y": null,
            "padding": null,
            "right": null,
            "top": null,
            "visibility": null,
            "width": null
          }
        },
        "bf6388fba2b74b098a9e3915b2417f54": {
          "model_module": "@jupyter-widgets/controls",
          "model_name": "DescriptionStyleModel",
          "model_module_version": "1.5.0",
          "state": {
            "_model_module": "@jupyter-widgets/controls",
            "_model_module_version": "1.5.0",
            "_model_name": "DescriptionStyleModel",
            "_view_count": null,
            "_view_module": "@jupyter-widgets/base",
            "_view_module_version": "1.2.0",
            "_view_name": "StyleView",
            "description_width": ""
          }
        },
        "fea17e228a4a44c391150ae2ca3c5a29": {
          "model_module": "@jupyter-widgets/controls",
          "model_name": "HBoxModel",
          "model_module_version": "1.5.0",
          "state": {
            "_dom_classes": [],
            "_model_module": "@jupyter-widgets/controls",
            "_model_module_version": "1.5.0",
            "_model_name": "HBoxModel",
            "_view_count": null,
            "_view_module": "@jupyter-widgets/controls",
            "_view_module_version": "1.5.0",
            "_view_name": "HBoxView",
            "box_style": "",
            "children": [
              "IPY_MODEL_930d81210596462b98005787bff2ef2e",
              "IPY_MODEL_1b94f2ae29044616993d0f7ad0de2555",
              "IPY_MODEL_0ece629bdb3f403eaa833ba57c65f9dc"
            ],
            "layout": "IPY_MODEL_75e776b95dc1405dbe252a801ad148f5"
          }
        },
        "930d81210596462b98005787bff2ef2e": {
          "model_module": "@jupyter-widgets/controls",
          "model_name": "HTMLModel",
          "model_module_version": "1.5.0",
          "state": {
            "_dom_classes": [],
            "_model_module": "@jupyter-widgets/controls",
            "_model_module_version": "1.5.0",
            "_model_name": "HTMLModel",
            "_view_count": null,
            "_view_module": "@jupyter-widgets/controls",
            "_view_module_version": "1.5.0",
            "_view_name": "HTMLView",
            "description": "",
            "description_tooltip": null,
            "layout": "IPY_MODEL_99897faa4859462293e48e62193142f1",
            "placeholder": "​",
            "style": "IPY_MODEL_0580dbe2d0fd4f01b5e22547f265e3fe",
            "value": "Fetching 5 files: 100%"
          }
        },
        "1b94f2ae29044616993d0f7ad0de2555": {
          "model_module": "@jupyter-widgets/controls",
          "model_name": "FloatProgressModel",
          "model_module_version": "1.5.0",
          "state": {
            "_dom_classes": [],
            "_model_module": "@jupyter-widgets/controls",
            "_model_module_version": "1.5.0",
            "_model_name": "FloatProgressModel",
            "_view_count": null,
            "_view_module": "@jupyter-widgets/controls",
            "_view_module_version": "1.5.0",
            "_view_name": "ProgressView",
            "bar_style": "success",
            "description": "",
            "description_tooltip": null,
            "layout": "IPY_MODEL_d289835165ef41e69f99179fa451e891",
            "max": 5,
            "min": 0,
            "orientation": "horizontal",
            "style": "IPY_MODEL_0702944b9564475397793dccc408ef34",
            "value": 5
          }
        },
        "0ece629bdb3f403eaa833ba57c65f9dc": {
          "model_module": "@jupyter-widgets/controls",
          "model_name": "HTMLModel",
          "model_module_version": "1.5.0",
          "state": {
            "_dom_classes": [],
            "_model_module": "@jupyter-widgets/controls",
            "_model_module_version": "1.5.0",
            "_model_name": "HTMLModel",
            "_view_count": null,
            "_view_module": "@jupyter-widgets/controls",
            "_view_module_version": "1.5.0",
            "_view_name": "HTMLView",
            "description": "",
            "description_tooltip": null,
            "layout": "IPY_MODEL_46895fa1915d4ad98ef19256eaa0a6a8",
            "placeholder": "​",
            "style": "IPY_MODEL_5f5dd7760ce64e1682f067389bcf8072",
            "value": " 5/5 [00:00&lt;00:00, 350.50it/s]"
          }
        },
        "75e776b95dc1405dbe252a801ad148f5": {
          "model_module": "@jupyter-widgets/base",
          "model_name": "LayoutModel",
          "model_module_version": "1.2.0",
          "state": {
            "_model_module": "@jupyter-widgets/base",
            "_model_module_version": "1.2.0",
            "_model_name": "LayoutModel",
            "_view_count": null,
            "_view_module": "@jupyter-widgets/base",
            "_view_module_version": "1.2.0",
            "_view_name": "LayoutView",
            "align_content": null,
            "align_items": null,
            "align_self": null,
            "border": null,
            "bottom": null,
            "display": null,
            "flex": null,
            "flex_flow": null,
            "grid_area": null,
            "grid_auto_columns": null,
            "grid_auto_flow": null,
            "grid_auto_rows": null,
            "grid_column": null,
            "grid_gap": null,
            "grid_row": null,
            "grid_template_areas": null,
            "grid_template_columns": null,
            "grid_template_rows": null,
            "height": null,
            "justify_content": null,
            "justify_items": null,
            "left": null,
            "margin": null,
            "max_height": null,
            "max_width": null,
            "min_height": null,
            "min_width": null,
            "object_fit": null,
            "object_position": null,
            "order": null,
            "overflow": null,
            "overflow_x": null,
            "overflow_y": null,
            "padding": null,
            "right": null,
            "top": null,
            "visibility": null,
            "width": null
          }
        },
        "99897faa4859462293e48e62193142f1": {
          "model_module": "@jupyter-widgets/base",
          "model_name": "LayoutModel",
          "model_module_version": "1.2.0",
          "state": {
            "_model_module": "@jupyter-widgets/base",
            "_model_module_version": "1.2.0",
            "_model_name": "LayoutModel",
            "_view_count": null,
            "_view_module": "@jupyter-widgets/base",
            "_view_module_version": "1.2.0",
            "_view_name": "LayoutView",
            "align_content": null,
            "align_items": null,
            "align_self": null,
            "border": null,
            "bottom": null,
            "display": null,
            "flex": null,
            "flex_flow": null,
            "grid_area": null,
            "grid_auto_columns": null,
            "grid_auto_flow": null,
            "grid_auto_rows": null,
            "grid_column": null,
            "grid_gap": null,
            "grid_row": null,
            "grid_template_areas": null,
            "grid_template_columns": null,
            "grid_template_rows": null,
            "height": null,
            "justify_content": null,
            "justify_items": null,
            "left": null,
            "margin": null,
            "max_height": null,
            "max_width": null,
            "min_height": null,
            "min_width": null,
            "object_fit": null,
            "object_position": null,
            "order": null,
            "overflow": null,
            "overflow_x": null,
            "overflow_y": null,
            "padding": null,
            "right": null,
            "top": null,
            "visibility": null,
            "width": null
          }
        },
        "0580dbe2d0fd4f01b5e22547f265e3fe": {
          "model_module": "@jupyter-widgets/controls",
          "model_name": "DescriptionStyleModel",
          "model_module_version": "1.5.0",
          "state": {
            "_model_module": "@jupyter-widgets/controls",
            "_model_module_version": "1.5.0",
            "_model_name": "DescriptionStyleModel",
            "_view_count": null,
            "_view_module": "@jupyter-widgets/base",
            "_view_module_version": "1.2.0",
            "_view_name": "StyleView",
            "description_width": ""
          }
        },
        "d289835165ef41e69f99179fa451e891": {
          "model_module": "@jupyter-widgets/base",
          "model_name": "LayoutModel",
          "model_module_version": "1.2.0",
          "state": {
            "_model_module": "@jupyter-widgets/base",
            "_model_module_version": "1.2.0",
            "_model_name": "LayoutModel",
            "_view_count": null,
            "_view_module": "@jupyter-widgets/base",
            "_view_module_version": "1.2.0",
            "_view_name": "LayoutView",
            "align_content": null,
            "align_items": null,
            "align_self": null,
            "border": null,
            "bottom": null,
            "display": null,
            "flex": null,
            "flex_flow": null,
            "grid_area": null,
            "grid_auto_columns": null,
            "grid_auto_flow": null,
            "grid_auto_rows": null,
            "grid_column": null,
            "grid_gap": null,
            "grid_row": null,
            "grid_template_areas": null,
            "grid_template_columns": null,
            "grid_template_rows": null,
            "height": null,
            "justify_content": null,
            "justify_items": null,
            "left": null,
            "margin": null,
            "max_height": null,
            "max_width": null,
            "min_height": null,
            "min_width": null,
            "object_fit": null,
            "object_position": null,
            "order": null,
            "overflow": null,
            "overflow_x": null,
            "overflow_y": null,
            "padding": null,
            "right": null,
            "top": null,
            "visibility": null,
            "width": null
          }
        },
        "0702944b9564475397793dccc408ef34": {
          "model_module": "@jupyter-widgets/controls",
          "model_name": "ProgressStyleModel",
          "model_module_version": "1.5.0",
          "state": {
            "_model_module": "@jupyter-widgets/controls",
            "_model_module_version": "1.5.0",
            "_model_name": "ProgressStyleModel",
            "_view_count": null,
            "_view_module": "@jupyter-widgets/base",
            "_view_module_version": "1.2.0",
            "_view_name": "StyleView",
            "bar_color": null,
            "description_width": ""
          }
        },
        "46895fa1915d4ad98ef19256eaa0a6a8": {
          "model_module": "@jupyter-widgets/base",
          "model_name": "LayoutModel",
          "model_module_version": "1.2.0",
          "state": {
            "_model_module": "@jupyter-widgets/base",
            "_model_module_version": "1.2.0",
            "_model_name": "LayoutModel",
            "_view_count": null,
            "_view_module": "@jupyter-widgets/base",
            "_view_module_version": "1.2.0",
            "_view_name": "LayoutView",
            "align_content": null,
            "align_items": null,
            "align_self": null,
            "border": null,
            "bottom": null,
            "display": null,
            "flex": null,
            "flex_flow": null,
            "grid_area": null,
            "grid_auto_columns": null,
            "grid_auto_flow": null,
            "grid_auto_rows": null,
            "grid_column": null,
            "grid_gap": null,
            "grid_row": null,
            "grid_template_areas": null,
            "grid_template_columns": null,
            "grid_template_rows": null,
            "height": null,
            "justify_content": null,
            "justify_items": null,
            "left": null,
            "margin": null,
            "max_height": null,
            "max_width": null,
            "min_height": null,
            "min_width": null,
            "object_fit": null,
            "object_position": null,
            "order": null,
            "overflow": null,
            "overflow_x": null,
            "overflow_y": null,
            "padding": null,
            "right": null,
            "top": null,
            "visibility": null,
            "width": null
          }
        },
        "5f5dd7760ce64e1682f067389bcf8072": {
          "model_module": "@jupyter-widgets/controls",
          "model_name": "DescriptionStyleModel",
          "model_module_version": "1.5.0",
          "state": {
            "_model_module": "@jupyter-widgets/controls",
            "_model_module_version": "1.5.0",
            "_model_name": "DescriptionStyleModel",
            "_view_count": null,
            "_view_module": "@jupyter-widgets/base",
            "_view_module_version": "1.2.0",
            "_view_name": "StyleView",
            "description_width": ""
          }
        }
      }
    }
  },
  "cells": [
    {
      "cell_type": "markdown",
      "metadata": {
        "id": "view-in-github",
        "colab_type": "text"
      },
      "source": [
        "<a href=\"https://colab.research.google.com/github/dabrpio/UAM-MA-PROJECT/blob/main/evaluation.ipynb\" target=\"_parent\"><img src=\"https://colab.research.google.com/assets/colab-badge.svg\" alt=\"Open In Colab\"/></a>"
      ]
    },
    {
      "cell_type": "markdown",
      "source": [
        "# Evaluation"
      ],
      "metadata": {
        "id": "XNuTcalZAfji"
      }
    },
    {
      "cell_type": "markdown",
      "source": [
        "## Package installation and imports"
      ],
      "metadata": {
        "id": "KJxnYpJiAlW7"
      }
    },
    {
      "cell_type": "code",
      "source": [
        "!pip install unbabel-comet -q"
      ],
      "metadata": {
        "id": "wAWScvGwOVL8"
      },
      "execution_count": 2,
      "outputs": []
    },
    {
      "cell_type": "code",
      "source": [
        "!pip install evaluate -q"
      ],
      "metadata": {
        "id": "iyjb2U8VXCSp"
      },
      "execution_count": 4,
      "outputs": []
    },
    {
      "cell_type": "code",
      "source": [
        "import sacrebleu\n",
        "import evaluate\n",
        "from comet import download_model, load_from_checkpoint"
      ],
      "metadata": {
        "id": "TTmOaAdwBOaF"
      },
      "execution_count": 5,
      "outputs": []
    },
    {
      "cell_type": "markdown",
      "source": [
        "##BLEU metric"
      ],
      "metadata": {
        "id": "SXAx0LUYBEy7"
      }
    },
    {
      "cell_type": "code",
      "source": [
        "def evaluate_bleu(sys_filename: str, refs_filename: str):\n",
        "    with open(sys_filename, 'r') as sys_file, \\\n",
        "         open(refs_filename, 'r') as refs_file:\n",
        "        sys = sys_file.readlines()\n",
        "        refs = refs_file.readlines()\n",
        "\n",
        "        bleu = sacrebleu.BLEU()\n",
        "        score = bleu.corpus_score(sys, [refs])\n",
        "\n",
        "        # print(bleu.get_signature())\n",
        "        return score"
      ],
      "metadata": {
        "id": "qtXOWRSwBJWE"
      },
      "execution_count": 6,
      "outputs": []
    },
    {
      "cell_type": "code",
      "source": [
        "# From EN to PL\n",
        "print(evaluate_bleu(sys_filename='/content/en-pl/00.txt', refs_filename='/content/val.pl.txt'))\n",
        "print(evaluate_bleu(sys_filename='/content/en-pl/02.txt', refs_filename='/content/val.pl.txt'))\n",
        "print(evaluate_bleu(sys_filename='/content/en-pl/05.txt', refs_filename='/content/val.pl.txt'))\n",
        "print(evaluate_bleu(sys_filename='/content/en-pl/10.txt', refs_filename='/content/val.pl.txt'))"
      ],
      "metadata": {
        "colab": {
          "base_uri": "https://localhost:8080/"
        },
        "id": "nt2FLBcvDXej",
        "outputId": "2f988744-022f-4023-c15d-32e284c1f74e"
      },
      "execution_count": 11,
      "outputs": [
        {
          "output_type": "stream",
          "name": "stdout",
          "text": [
            "BLEU = 23.82 47.6/28.1/19.5/14.0 (BP = 0.970 ratio = 0.970 hyp_len = 19877 ref_len = 20490)\n",
            "BLEU = 41.14 57.9/43.7/36.7/31.7 (BP = 0.993 ratio = 0.993 hyp_len = 20345 ref_len = 20490)\n",
            "BLEU = 42.98 58.9/45.3/38.4/33.4 (BP = 1.000 ratio = 1.000 hyp_len = 20488 ref_len = 20490)\n",
            "BLEU = 43.17 59.4/45.8/38.9/34.0 (BP = 0.991 ratio = 0.991 hyp_len = 20305 ref_len = 20490)\n"
          ]
        }
      ]
    },
    {
      "cell_type": "code",
      "source": [
        "# From PL to EN\n",
        "print(evaluate_bleu(sys_filename='/content/pl-en/00.txt', refs_filename='/content/val.en.txt'))\n",
        "print(evaluate_bleu(sys_filename='/content/pl-en/02.txt', refs_filename='/content/val.en.txt'))\n",
        "print(evaluate_bleu(sys_filename='/content/pl-en/05.txt', refs_filename='/content/val.en.txt'))\n",
        "print(evaluate_bleu(sys_filename='/content/pl-en/10.txt', refs_filename='/content/val.en.txt'))"
      ],
      "metadata": {
        "colab": {
          "base_uri": "https://localhost:8080/"
        },
        "id": "Nb0xStwqEn1Y",
        "outputId": "718ad220-4b60-4313-c3c6-34bc7ca8d1a7"
      },
      "execution_count": 13,
      "outputs": [
        {
          "output_type": "stream",
          "name": "stdout",
          "text": [
            "BLEU = 29.08 54.1/32.9/23.2/17.3 (BP = 1.000 ratio = 1.025 hyp_len = 22949 ref_len = 22386)\n",
            "BLEU = 47.06 63.8/49.3/42.1/37.1 (BP = 1.000 ratio = 1.005 hyp_len = 22488 ref_len = 22386)\n",
            "BLEU = 48.28 64.6/50.5/43.4/38.3 (BP = 1.000 ratio = 1.005 hyp_len = 22503 ref_len = 22386)\n",
            "BLEU = 49.27 65.1/51.4/44.5/39.6 (BP = 1.000 ratio = 1.001 hyp_len = 22407 ref_len = 22386)\n"
          ]
        }
      ]
    },
    {
      "cell_type": "markdown",
      "source": [
        "##chfR metric"
      ],
      "metadata": {
        "id": "XfQ0VH03EzLw"
      }
    },
    {
      "cell_type": "code",
      "source": [
        "def evaluate_chfr(sys_filename: str, refs_filename: str):\n",
        "    with open(sys_filename, 'r') as sys_file, \\\n",
        "         open(refs_filename, 'r') as refs_file:\n",
        "        sys = sys_file.readlines()\n",
        "        refs = refs_file.readlines()\n",
        "\n",
        "        chrf = sacrebleu.CHRF()\n",
        "        score = chrf.corpus_score(sys, [refs])\n",
        "\n",
        "        # print(chrf.get_signature())\n",
        "        return score"
      ],
      "metadata": {
        "id": "exe4WxEQE7MU"
      },
      "execution_count": 14,
      "outputs": []
    },
    {
      "cell_type": "code",
      "source": [
        "# From EN to PL\n",
        "print(evaluate_chfr(sys_filename='/content/en-pl/00.txt', refs_filename='/content/val.pl.txt'))\n",
        "print(evaluate_chfr(sys_filename='/content/en-pl/02.txt', refs_filename='/content/val.pl.txt'))\n",
        "print(evaluate_chfr(sys_filename='/content/en-pl/05.txt', refs_filename='/content/val.pl.txt'))\n",
        "print(evaluate_chfr(sys_filename='/content/en-pl/10.txt', refs_filename='/content/val.pl.txt'))"
      ],
      "metadata": {
        "colab": {
          "base_uri": "https://localhost:8080/"
        },
        "id": "pWUy6kqWE-Vg",
        "outputId": "85390cbf-198e-4512-bbe9-77ad3b6dfdd5"
      },
      "execution_count": 16,
      "outputs": [
        {
          "output_type": "stream",
          "name": "stdout",
          "text": [
            "chrF2 = 47.50\n",
            "chrF2 = 58.54\n",
            "chrF2 = 59.60\n",
            "chrF2 = 59.79\n"
          ]
        }
      ]
    },
    {
      "cell_type": "code",
      "source": [
        "# From PL to EN\n",
        "print(evaluate_chfr(sys_filename='/content/pl-en/00.txt', refs_filename='/content/val.en.txt'))\n",
        "print(evaluate_chfr(sys_filename='/content/pl-en/02.txt', refs_filename='/content/val.en.txt'))\n",
        "print(evaluate_chfr(sys_filename='/content/pl-en/05.txt', refs_filename='/content/val.en.txt'))\n",
        "print(evaluate_chfr(sys_filename='/content/pl-en/10.txt', refs_filename='/content/val.en.txt'))"
      ],
      "metadata": {
        "colab": {
          "base_uri": "https://localhost:8080/"
        },
        "id": "LHhD1oWMFGQU",
        "outputId": "1ffc3559-248b-4ae6-bce6-6c22e79a93f8"
      },
      "execution_count": 17,
      "outputs": [
        {
          "output_type": "stream",
          "name": "stdout",
          "text": [
            "chrF2 = 52.60\n",
            "chrF2 = 62.75\n",
            "chrF2 = 63.78\n",
            "chrF2 = 64.13\n"
          ]
        }
      ]
    },
    {
      "cell_type": "markdown",
      "source": [
        "##TER metric"
      ],
      "metadata": {
        "id": "UJgQyFCqFS7m"
      }
    },
    {
      "cell_type": "code",
      "source": [
        "def evaluate_ter(sys_filename: str, refs_filename: str):\n",
        "    with open(sys_filename, 'r') as sys_file, \\\n",
        "         open(refs_filename, 'r') as refs_file:\n",
        "        sys = sys_file.readlines()\n",
        "        refs = refs_file.readlines()\n",
        "\n",
        "        ter = sacrebleu.TER()\n",
        "        score = ter.corpus_score(sys, [refs])\n",
        "\n",
        "        # print(ter.get_signature())\n",
        "        return score"
      ],
      "metadata": {
        "id": "ZMRSqGE5Fb35"
      },
      "execution_count": 18,
      "outputs": []
    },
    {
      "cell_type": "code",
      "source": [
        "# From EN to PL\n",
        "print(evaluate_ter(sys_filename='/content/en-pl/00.txt', refs_filename='/content/val.pl.txt'))\n",
        "print(evaluate_ter(sys_filename='/content/en-pl/02.txt', refs_filename='/content/val.pl.txt'))\n",
        "print(evaluate_ter(sys_filename='/content/en-pl/05.txt', refs_filename='/content/val.pl.txt'))\n",
        "print(evaluate_ter(sys_filename='/content/en-pl/10.txt', refs_filename='/content/val.pl.txt'))"
      ],
      "metadata": {
        "colab": {
          "base_uri": "https://localhost:8080/"
        },
        "id": "vDOoR3fWFer9",
        "outputId": "9d566ac0-6d74-4171-be55-855760ea3c74"
      },
      "execution_count": 19,
      "outputs": [
        {
          "output_type": "stream",
          "name": "stdout",
          "text": [
            "TER = 80.44\n",
            "TER = 65.48\n",
            "TER = 64.38\n",
            "TER = 63.64\n"
          ]
        }
      ]
    },
    {
      "cell_type": "code",
      "source": [
        "# From PL to EN\n",
        "print(evaluate_ter(sys_filename='/content/pl-en/00.txt', refs_filename='/content/val.en.txt'))\n",
        "print(evaluate_ter(sys_filename='/content/pl-en/02.txt', refs_filename='/content/val.en.txt'))\n",
        "print(evaluate_ter(sys_filename='/content/pl-en/05.txt', refs_filename='/content/val.en.txt'))\n",
        "print(evaluate_ter(sys_filename='/content/pl-en/10.txt', refs_filename='/content/val.en.txt'))"
      ],
      "metadata": {
        "colab": {
          "base_uri": "https://localhost:8080/"
        },
        "id": "crmzAxRDFkik",
        "outputId": "b7198088-cf2d-4700-ed1f-e7e2bd7c3b60"
      },
      "execution_count": 21,
      "outputs": [
        {
          "output_type": "stream",
          "name": "stdout",
          "text": [
            "TER = 74.86\n",
            "TER = 59.69\n",
            "TER = 57.99\n",
            "TER = 57.02\n"
          ]
        }
      ]
    },
    {
      "cell_type": "markdown",
      "source": [
        "##METEOR metric"
      ],
      "metadata": {
        "id": "azpyA5E_FyRS"
      }
    },
    {
      "cell_type": "code",
      "source": [
        "meteor = evaluate.load(\"meteor\")\n",
        "\n",
        "def evaluate_meteor(sys_filename: str, refs_filename: str):\n",
        "    with open(sys_filename, 'r') as sys_file, \\\n",
        "         open(refs_filename, 'r') as refs_file:\n",
        "        sys = sys_file.readlines()\n",
        "        refs = refs_file.readlines()\n",
        "\n",
        "    results = meteor.compute(predictions=[s.strip() for s in sys], references=[r.strip() for r in refs])\n",
        "    return results['meteor']"
      ],
      "metadata": {
        "colab": {
          "base_uri": "https://localhost:8080/",
          "height": 243,
          "referenced_widgets": [
            "fe96c79364644012ab4d72b5bad22047",
            "0104337a2c7e486fa9c1f0f9590b55d2",
            "dbf0f7acb0864cb6b10af08921af18f8",
            "beba0b7fc37f49c3821d7d27b8421aaa",
            "422be4fe60e0489ca1ed8bd50942b952",
            "5656af3a978943029e70f1c39c297283",
            "0b646b2e1da54081b5e3e6fdb89d3e85",
            "ef3d11547bff4d50bbc94c37004008c3",
            "f3acdbcbf64d4becadc2108e21ed40ee",
            "0a401543de6d422082c6071f85fd06ce",
            "bf6388fba2b74b098a9e3915b2417f54"
          ]
        },
        "collapsed": true,
        "id": "EI03wK32F2lO",
        "outputId": "e07fa077-5dd8-4937-8022-f587e80dbf36"
      },
      "execution_count": 22,
      "outputs": [
        {
          "output_type": "stream",
          "name": "stderr",
          "text": [
            "/usr/local/lib/python3.10/dist-packages/huggingface_hub/utils/_token.py:89: UserWarning: \n",
            "The secret `HF_TOKEN` does not exist in your Colab secrets.\n",
            "To authenticate with the Hugging Face Hub, create a token in your settings tab (https://huggingface.co/settings/tokens), set it as secret in your Google Colab and restart your session.\n",
            "You will be able to reuse this secret in all of your notebooks.\n",
            "Please note that authentication is recommended but still optional to access public models or datasets.\n",
            "  warnings.warn(\n"
          ]
        },
        {
          "output_type": "display_data",
          "data": {
            "text/plain": [
              "Downloading builder script:   0%|          | 0.00/7.02k [00:00<?, ?B/s]"
            ],
            "application/vnd.jupyter.widget-view+json": {
              "version_major": 2,
              "version_minor": 0,
              "model_id": "fe96c79364644012ab4d72b5bad22047"
            }
          },
          "metadata": {}
        },
        {
          "output_type": "stream",
          "name": "stderr",
          "text": [
            "[nltk_data] Downloading package wordnet to /root/nltk_data...\n",
            "[nltk_data] Downloading package punkt to /root/nltk_data...\n",
            "[nltk_data]   Unzipping tokenizers/punkt.zip.\n",
            "[nltk_data] Downloading package omw-1.4 to /root/nltk_data...\n"
          ]
        }
      ]
    },
    {
      "cell_type": "code",
      "source": [
        "# From EN to PL\n",
        "print(evaluate_meteor(sys_filename='/content/en-pl/00.txt', refs_filename='/content/val.pl.txt'))\n",
        "print(evaluate_meteor(sys_filename='/content/en-pl/02.txt', refs_filename='/content/val.pl.txt'))\n",
        "print(evaluate_meteor(sys_filename='/content/en-pl/05.txt', refs_filename='/content/val.pl.txt'))\n",
        "print(evaluate_meteor(sys_filename='/content/en-pl/10.txt', refs_filename='/content/val.pl.txt'))"
      ],
      "metadata": {
        "colab": {
          "base_uri": "https://localhost:8080/"
        },
        "id": "cHRTZKz7GDFY",
        "outputId": "f389ab23-03b7-49dd-c4c7-aae20b7e43d6"
      },
      "execution_count": 23,
      "outputs": [
        {
          "output_type": "stream",
          "name": "stdout",
          "text": [
            "0.35951175197195473\n",
            "0.49457376397913616\n",
            "0.5044096983347446\n",
            "0.5046950829450687\n"
          ]
        }
      ]
    },
    {
      "cell_type": "code",
      "source": [
        "# From PL to EN\n",
        "print(evaluate_meteor(sys_filename='/content/pl-en/00.txt', refs_filename='/content/val.en.txt'))\n",
        "print(evaluate_meteor(sys_filename='/content/pl-en/02.txt', refs_filename='/content/val.en.txt'))\n",
        "print(evaluate_meteor(sys_filename='/content/pl-en/05.txt', refs_filename='/content/val.en.txt'))\n",
        "print(evaluate_meteor(sys_filename='/content/pl-en/10.txt', refs_filename='/content/val.en.txt'))"
      ],
      "metadata": {
        "colab": {
          "base_uri": "https://localhost:8080/"
        },
        "id": "LjFQfu4rGIXI",
        "outputId": "e09f10a9-1678-42c8-b223-4ba0ffe8ac33"
      },
      "execution_count": 24,
      "outputs": [
        {
          "output_type": "stream",
          "name": "stdout",
          "text": [
            "0.46228385555508894\n",
            "0.5632063254041779\n",
            "0.5735138695453181\n",
            "0.5763032255524402\n"
          ]
        }
      ]
    },
    {
      "cell_type": "markdown",
      "source": [
        "## COMET metric"
      ],
      "metadata": {
        "id": "JogUoILhFeUz"
      }
    },
    {
      "cell_type": "code",
      "source": [
        "model_path = download_model(\"Unbabel/wmt22-comet-da\")\n",
        "model = load_from_checkpoint(model_path)"
      ],
      "metadata": {
        "colab": {
          "base_uri": "https://localhost:8080/",
          "height": 138,
          "referenced_widgets": [
            "fea17e228a4a44c391150ae2ca3c5a29",
            "930d81210596462b98005787bff2ef2e",
            "1b94f2ae29044616993d0f7ad0de2555",
            "0ece629bdb3f403eaa833ba57c65f9dc",
            "75e776b95dc1405dbe252a801ad148f5",
            "99897faa4859462293e48e62193142f1",
            "0580dbe2d0fd4f01b5e22547f265e3fe",
            "d289835165ef41e69f99179fa451e891",
            "0702944b9564475397793dccc408ef34",
            "46895fa1915d4ad98ef19256eaa0a6a8",
            "5f5dd7760ce64e1682f067389bcf8072"
          ]
        },
        "collapsed": true,
        "id": "Axnur7vlHIqi",
        "outputId": "f64308d2-6fbf-46cb-d9f5-17eb36127ec9"
      },
      "execution_count": 31,
      "outputs": [
        {
          "output_type": "display_data",
          "data": {
            "text/plain": [
              "Fetching 5 files:   0%|          | 0/5 [00:00<?, ?it/s]"
            ],
            "application/vnd.jupyter.widget-view+json": {
              "version_major": 2,
              "version_minor": 0,
              "model_id": "fea17e228a4a44c391150ae2ca3c5a29"
            }
          },
          "metadata": {}
        },
        {
          "output_type": "stream",
          "name": "stderr",
          "text": [
            "INFO:pytorch_lightning.utilities.migration.utils:Lightning automatically upgraded your loaded checkpoint from v1.8.3.post1 to v2.4.0. To apply the upgrade to your files permanently, run `python -m pytorch_lightning.utilities.upgrade_checkpoint ../root/.cache/huggingface/hub/models--Unbabel--wmt22-comet-da/snapshots/371e9839ca4e213dde891b066cf3080f75ec7e72/checkpoints/model.ckpt`\n",
            "/usr/local/lib/python3.10/dist-packages/transformers/tokenization_utils_base.py:1601: FutureWarning: `clean_up_tokenization_spaces` was not set. It will be set to `True` by default. This behavior will be depracted in transformers v4.45, and will be then set to `False` by default. For more details check this issue: https://github.com/huggingface/transformers/issues/31884\n",
            "  warnings.warn(\n",
            "/usr/local/lib/python3.10/dist-packages/pytorch_lightning/core/saving.py:195: Found keys that are not in the model state dict but in the checkpoint: ['encoder.model.embeddings.position_ids']\n"
          ]
        }
      ]
    },
    {
      "cell_type": "code",
      "execution_count": 32,
      "metadata": {
        "id": "iTjNO_xoMy2w"
      },
      "outputs": [],
      "source": [
        "def evaluate_comet(src_filename: str, sys_filename: str, refs_filename: str):\n",
        "    with open(src_filename, 'r') as src_file, \\\n",
        "         open(sys_filename, 'r') as sys_file, \\\n",
        "         open(refs_filename, 'r') as refs_file:\n",
        "        src = src_file.readlines()\n",
        "        sys = sys_file.readlines()\n",
        "        refs = refs_file.readlines()\n",
        "        data = [\n",
        "            {\"src\": src, \"mt\": mt, \"ref\": ref}\n",
        "            for src, mt, ref in zip(src, sys, refs)\n",
        "        ]\n",
        "\n",
        "        predictions = model.predict(data, batch_size=8, gpus=1)\n",
        "        return sum(predictions[\"scores\"]) / len(predictions[\"scores\"])"
      ]
    },
    {
      "cell_type": "code",
      "source": [
        "# From EN to PL\n",
        "print(evaluate_comet(src_filename='/content/val.en.txt', refs_filename='/content/val.pl.txt', sys_filename='/content/en-pl/00.txt'))\n",
        "print(evaluate_comet(src_filename='/content/val.en.txt', refs_filename='/content/val.pl.txt', sys_filename='/content/en-pl/02.txt'))\n",
        "print(evaluate_comet(src_filename='/content/val.en.txt', refs_filename='/content/val.pl.txt', sys_filename='/content/en-pl/05.txt'))\n",
        "print(evaluate_comet(src_filename='/content/val.en.txt', refs_filename='/content/val.pl.txt', sys_filename='/content/en-pl/10.txt'))"
      ],
      "metadata": {
        "colab": {
          "base_uri": "https://localhost:8080/"
        },
        "id": "P-pdtypDG4ZZ",
        "outputId": "78027a6c-8f8c-453c-e520-dd147f1f9729"
      },
      "execution_count": 33,
      "outputs": [
        {
          "output_type": "stream",
          "name": "stderr",
          "text": [
            "INFO:pytorch_lightning.utilities.rank_zero:GPU available: True (cuda), used: True\n",
            "INFO:pytorch_lightning.utilities.rank_zero:TPU available: False, using: 0 TPU cores\n",
            "INFO:pytorch_lightning.utilities.rank_zero:HPU available: False, using: 0 HPUs\n",
            "INFO:pytorch_lightning.accelerators.cuda:LOCAL_RANK: 0 - CUDA_VISIBLE_DEVICES: [0]\n",
            "/usr/lib/python3.10/multiprocessing/popen_fork.py:66: RuntimeWarning: os.fork() was called. os.fork() is incompatible with multithreaded code, and JAX is multithreaded, so this will likely lead to a deadlock.\n",
            "  self.pid = os.fork()\n",
            "Predicting DataLoader 0: 100%|██████████| 125/125 [00:30<00:00,  4.06it/s]\n",
            "INFO:pytorch_lightning.utilities.rank_zero:GPU available: True (cuda), used: True\n",
            "INFO:pytorch_lightning.utilities.rank_zero:TPU available: False, using: 0 TPU cores\n",
            "INFO:pytorch_lightning.utilities.rank_zero:HPU available: False, using: 0 HPUs\n",
            "INFO:pytorch_lightning.accelerators.cuda:LOCAL_RANK: 0 - CUDA_VISIBLE_DEVICES: [0]\n"
          ]
        },
        {
          "output_type": "stream",
          "name": "stdout",
          "text": [
            "0.7624833240807056\n"
          ]
        },
        {
          "output_type": "stream",
          "name": "stderr",
          "text": [
            "/usr/lib/python3.10/multiprocessing/popen_fork.py:66: RuntimeWarning: os.fork() was called. os.fork() is incompatible with multithreaded code, and JAX is multithreaded, so this will likely lead to a deadlock.\n",
            "  self.pid = os.fork()\n",
            "Predicting DataLoader 0: 100%|██████████| 125/125 [00:33<00:00,  3.72it/s]\n",
            "/usr/lib/python3.10/multiprocessing/popen_fork.py:66: RuntimeWarning: os.fork() was called. os.fork() is incompatible with multithreaded code, and JAX is multithreaded, so this will likely lead to a deadlock.\n",
            "  self.pid = os.fork()\n",
            "INFO:pytorch_lightning.utilities.rank_zero:GPU available: True (cuda), used: True\n",
            "INFO:pytorch_lightning.utilities.rank_zero:TPU available: False, using: 0 TPU cores\n",
            "INFO:pytorch_lightning.utilities.rank_zero:HPU available: False, using: 0 HPUs\n",
            "INFO:pytorch_lightning.accelerators.cuda:LOCAL_RANK: 0 - CUDA_VISIBLE_DEVICES: [0]\n"
          ]
        },
        {
          "output_type": "stream",
          "name": "stdout",
          "text": [
            "0.790320319890976\n"
          ]
        },
        {
          "output_type": "stream",
          "name": "stderr",
          "text": [
            "/usr/lib/python3.10/multiprocessing/popen_fork.py:66: RuntimeWarning: os.fork() was called. os.fork() is incompatible with multithreaded code, and JAX is multithreaded, so this will likely lead to a deadlock.\n",
            "  self.pid = os.fork()\n",
            "Predicting DataLoader 0: 100%|██████████| 125/125 [00:33<00:00,  3.68it/s]\n",
            "INFO:pytorch_lightning.utilities.rank_zero:GPU available: True (cuda), used: True\n",
            "INFO:pytorch_lightning.utilities.rank_zero:TPU available: False, using: 0 TPU cores\n",
            "INFO:pytorch_lightning.utilities.rank_zero:HPU available: False, using: 0 HPUs\n",
            "INFO:pytorch_lightning.accelerators.cuda:LOCAL_RANK: 0 - CUDA_VISIBLE_DEVICES: [0]\n"
          ]
        },
        {
          "output_type": "stream",
          "name": "stdout",
          "text": [
            "0.7914815637469291\n"
          ]
        },
        {
          "output_type": "stream",
          "name": "stderr",
          "text": [
            "/usr/lib/python3.10/multiprocessing/popen_fork.py:66: RuntimeWarning: os.fork() was called. os.fork() is incompatible with multithreaded code, and JAX is multithreaded, so this will likely lead to a deadlock.\n",
            "  self.pid = os.fork()\n",
            "Predicting DataLoader 0: 100%|██████████| 125/125 [00:33<00:00,  3.75it/s]\n"
          ]
        },
        {
          "output_type": "stream",
          "name": "stdout",
          "text": [
            "0.7897619871199131\n"
          ]
        }
      ]
    },
    {
      "cell_type": "code",
      "source": [
        "# From PL to EN\n",
        "print(evaluate_comet(src_filename='/content/val.pl.txt', refs_filename='/content/val.en.txt', sys_filename='/content/pl-en/00.txt'))\n",
        "print(evaluate_comet(src_filename='/content/val.pl.txt', refs_filename='/content/val.en.txt', sys_filename='/content/pl-en/02.txt'))\n",
        "print(evaluate_comet(src_filename='/content/val.pl.txt', refs_filename='/content/val.en.txt', sys_filename='/content/pl-en/05.txt'))\n",
        "print(evaluate_comet(src_filename='/content/val.pl.txt', refs_filename='/content/val.en.txt', sys_filename='/content/pl-en/10.txt'))"
      ],
      "metadata": {
        "colab": {
          "base_uri": "https://localhost:8080/"
        },
        "id": "ku5V2v6_H22h",
        "outputId": "fced3523-d2d6-40bb-8e51-92d3c8946a3d"
      },
      "execution_count": 34,
      "outputs": [
        {
          "output_type": "stream",
          "name": "stderr",
          "text": [
            "INFO:pytorch_lightning.utilities.rank_zero:GPU available: True (cuda), used: True\n",
            "INFO:pytorch_lightning.utilities.rank_zero:TPU available: False, using: 0 TPU cores\n",
            "INFO:pytorch_lightning.utilities.rank_zero:HPU available: False, using: 0 HPUs\n",
            "INFO:pytorch_lightning.accelerators.cuda:LOCAL_RANK: 0 - CUDA_VISIBLE_DEVICES: [0]\n",
            "/usr/lib/python3.10/multiprocessing/popen_fork.py:66: RuntimeWarning: os.fork() was called. os.fork() is incompatible with multithreaded code, and JAX is multithreaded, so this will likely lead to a deadlock.\n",
            "  self.pid = os.fork()\n",
            "Predicting DataLoader 0: 100%|██████████| 125/125 [00:33<00:00,  3.76it/s]\n",
            "INFO:pytorch_lightning.utilities.rank_zero:GPU available: True (cuda), used: True\n",
            "INFO:pytorch_lightning.utilities.rank_zero:TPU available: False, using: 0 TPU cores\n",
            "INFO:pytorch_lightning.utilities.rank_zero:HPU available: False, using: 0 HPUs\n",
            "INFO:pytorch_lightning.accelerators.cuda:LOCAL_RANK: 0 - CUDA_VISIBLE_DEVICES: [0]\n"
          ]
        },
        {
          "output_type": "stream",
          "name": "stdout",
          "text": [
            "0.7220372212231159\n"
          ]
        },
        {
          "output_type": "stream",
          "name": "stderr",
          "text": [
            "/usr/lib/python3.10/multiprocessing/popen_fork.py:66: RuntimeWarning: os.fork() was called. os.fork() is incompatible with multithreaded code, and JAX is multithreaded, so this will likely lead to a deadlock.\n",
            "  self.pid = os.fork()\n",
            "Predicting DataLoader 0: 100%|██████████| 125/125 [00:31<00:00,  4.00it/s]\n",
            "INFO:pytorch_lightning.utilities.rank_zero:GPU available: True (cuda), used: True\n",
            "INFO:pytorch_lightning.utilities.rank_zero:TPU available: False, using: 0 TPU cores\n",
            "INFO:pytorch_lightning.utilities.rank_zero:HPU available: False, using: 0 HPUs\n",
            "INFO:pytorch_lightning.accelerators.cuda:LOCAL_RANK: 0 - CUDA_VISIBLE_DEVICES: [0]\n"
          ]
        },
        {
          "output_type": "stream",
          "name": "stdout",
          "text": [
            "0.7460013137310744\n"
          ]
        },
        {
          "output_type": "stream",
          "name": "stderr",
          "text": [
            "/usr/lib/python3.10/multiprocessing/popen_fork.py:66: RuntimeWarning: os.fork() was called. os.fork() is incompatible with multithreaded code, and JAX is multithreaded, so this will likely lead to a deadlock.\n",
            "  self.pid = os.fork()\n",
            "Predicting DataLoader 0: 100%|██████████| 125/125 [00:31<00:00,  3.93it/s]\n",
            "INFO:pytorch_lightning.utilities.rank_zero:GPU available: True (cuda), used: True\n",
            "INFO:pytorch_lightning.utilities.rank_zero:TPU available: False, using: 0 TPU cores\n",
            "INFO:pytorch_lightning.utilities.rank_zero:HPU available: False, using: 0 HPUs\n",
            "INFO:pytorch_lightning.accelerators.cuda:LOCAL_RANK: 0 - CUDA_VISIBLE_DEVICES: [0]\n"
          ]
        },
        {
          "output_type": "stream",
          "name": "stdout",
          "text": [
            "0.7498302138894797\n"
          ]
        },
        {
          "output_type": "stream",
          "name": "stderr",
          "text": [
            "/usr/lib/python3.10/multiprocessing/popen_fork.py:66: RuntimeWarning: os.fork() was called. os.fork() is incompatible with multithreaded code, and JAX is multithreaded, so this will likely lead to a deadlock.\n",
            "  self.pid = os.fork()\n",
            "Predicting DataLoader 0: 100%|██████████| 125/125 [00:31<00:00,  3.92it/s]\n"
          ]
        },
        {
          "output_type": "stream",
          "name": "stdout",
          "text": [
            "0.7501657111793757\n"
          ]
        }
      ]
    }
  ]
}